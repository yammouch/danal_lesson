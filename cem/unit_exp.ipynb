{
 "cells": [
  {
   "cell_type": "code",
   "execution_count": null,
   "id": "59004473-0c8f-4caa-9e36-0ba25719b9ec",
   "metadata": {},
   "outputs": [],
   "source": [
    "import sympy.vector\n",
    "import itertools"
   ]
  },
  {
   "cell_type": "code",
   "execution_count": null,
   "id": "63dcde9b-5bdd-4323-9b44-9854b76b1cbd",
   "metadata": {},
   "outputs": [],
   "source": [
    "N = sympy.vector.CoordSys3D('N'); N"
   ]
  },
  {
   "cell_type": "code",
   "execution_count": null,
   "id": "85186e63-6296-4e09-b28a-47cf9336cf6a",
   "metadata": {},
   "outputs": [],
   "source": [
    "p = \\\n",
    "[ sympy.vector.Vector.zero\n",
    ", N.i\n",
    ", N.j\n",
    ", N.k ]; p"
   ]
  },
  {
   "cell_type": "code",
   "execution_count": null,
   "id": "0e5ace75-8b4a-4170-9a4e-3a650f6d3669",
   "metadata": {},
   "outputs": [],
   "source": [
    "p = \\\n",
    "[ -N.k\n",
    ", sympy.sqrt(2)*N.i+N.j\n",
    ", sympy.sqrt(2)*N.i-N.j\n",
    ", N.k ]; p"
   ]
  },
  {
   "cell_type": "code",
   "execution_count": null,
   "id": "84899453-53d4-4288-9419-c9cbda52fb78",
   "metadata": {},
   "outputs": [],
   "source": [
    "p = \\\n",
    "[ -N.k\n",
    ", 7*N.i+7*N.j\n",
    ", 7*N.i-7*N.j\n",
    ", N.k ]; p"
   ]
  },
  {
   "cell_type": "code",
   "execution_count": null,
   "id": "da8eb23f-d1ca-41db-a254-d82ceb026184",
   "metadata": {},
   "outputs": [],
   "source": [
    "q = [v - p[0] for v in p[1:]]; q"
   ]
  },
  {
   "cell_type": "code",
   "execution_count": null,
   "id": "36bc13f7-5492-4df6-ad52-d492c18ed0b9",
   "metadata": {},
   "outputs": [],
   "source": [
    "vol = q[0] & (q[1] ^ q[2]); vol"
   ]
  },
  {
   "cell_type": "code",
   "execution_count": null,
   "id": "aab337fe-e815-4d08-8a58-11d942de36be",
   "metadata": {},
   "outputs": [],
   "source": [
    "n = \\\n",
    "[ None\n",
    ", (q[1] ^ q[2])/vol\n",
    ", (q[2] ^ q[0])/vol\n",
    ", (q[0] ^ q[1])/vol ]\n",
    "n[0] = -n[1] - n[2] - n[3]\n",
    "n"
   ]
  },
  {
   "cell_type": "code",
   "execution_count": null,
   "id": "27134bf3-7376-4245-8676-307f1a11631b",
   "metadata": {},
   "outputs": [],
   "source": [
    "[x.to_matrix(N) for x in n]"
   ]
  },
  {
   "cell_type": "code",
   "execution_count": null,
   "id": "7439eae6-8a13-4abb-893b-e4f1e4907fbf",
   "metadata": {},
   "outputs": [],
   "source": [
    "[x.to_matrix(N).evalf() for x in n]"
   ]
  },
  {
   "cell_type": "code",
   "execution_count": null,
   "id": "b10212d1-c029-4e53-b2b3-463ef26b1327",
   "metadata": {},
   "outputs": [],
   "source": [
    "vp = [ [0, 0, 0, 1, 1, 2]\n",
    "     , [1, 2, 3, 2, 3, 3] ]\n",
    "[ [ (i, j) for j in vp[1] ]\n",
    "  for i in vp[0] ]"
   ]
  },
  {
   "cell_type": "code",
   "execution_count": null,
   "id": "64525671-0988-4c7e-9d8b-0b007a0a3160",
   "metadata": {},
   "outputs": [],
   "source": [
    "m = [ [ [ n[k] & n[l] for l in vp[j] ]\n",
    "      for k in vp[i] ]\n",
    "    for (i, j) in [(0, 0), (0, 1), (1, 0), (1, 1)] ] \n",
    "m = sympy.tensor.array.MutableDenseNDimArray(m)\n",
    "m"
   ]
  },
  {
   "cell_type": "code",
   "execution_count": null,
   "id": "c923135a-dac4-41d3-abac-664301f72780",
   "metadata": {},
   "outputs": [],
   "source": [
    "for i in range(2):\n",
    "  for j in range(2):\n",
    "    pos = \\\n",
    "    [ (2*i+j, k, l)\n",
    "      for k, l\n",
    "      in itertools.product(range(6), range(6))\n",
    "      if vp[1-i][k] == vp[1-j][l] ]\n",
    "    for p in pos:\n",
    "      m[p] *= 2"
   ]
  },
  {
   "cell_type": "code",
   "execution_count": null,
   "id": "9b7d647f-6653-400e-bdb7-f469e190f436",
   "metadata": {},
   "outputs": [],
   "source": [
    "m"
   ]
  },
  {
   "cell_type": "code",
   "execution_count": null,
   "id": "718ba155-f243-4273-9f53-f053caf25f13",
   "metadata": {},
   "outputs": [],
   "source": [
    "msum = m[0] - m[1] - m[2] + m[3]; msum"
   ]
  },
  {
   "cell_type": "code",
   "execution_count": null,
   "id": "8e696632-4687-4358-a35e-d1164cbd4221",
   "metadata": {},
   "outputs": [],
   "source": [
    "msum*vol/120"
   ]
  },
  {
   "cell_type": "code",
   "execution_count": null,
   "id": "72365acb-db75-4aee-9821-9ff58d825bd1",
   "metadata": {},
   "outputs": [],
   "source": [
    "msum*8"
   ]
  },
  {
   "cell_type": "code",
   "execution_count": null,
   "id": "c6907e28-690b-4270-b625-4255da2949ff",
   "metadata": {},
   "outputs": [],
   "source": []
  }
 ],
 "metadata": {
  "kernelspec": {
   "display_name": "Python 3",
   "language": "python",
   "name": "python3"
  },
  "language_info": {
   "codemirror_mode": {
    "name": "ipython",
    "version": 3
   },
   "file_extension": ".py",
   "mimetype": "text/x-python",
   "name": "python",
   "nbconvert_exporter": "python",
   "pygments_lexer": "ipython3",
   "version": "3.9.1"
  }
 },
 "nbformat": 4,
 "nbformat_minor": 5
}
