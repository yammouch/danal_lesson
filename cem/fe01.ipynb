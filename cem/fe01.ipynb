{
 "cells": [
  {
   "cell_type": "code",
   "execution_count": 1,
   "id": "0fd83e04-3001-4874-bc7a-3afa03af646b",
   "metadata": {},
   "outputs": [],
   "source": [
    "import dolfinx\n",
    "import ufl\n",
    "import mpi4py\n",
    "import numpy as np\n",
    "import petsc4py"
   ]
  },
  {
   "cell_type": "code",
   "execution_count": 2,
   "id": "b61f3ae0-0b03-49ac-a7f9-59d980dc76bb",
   "metadata": {},
   "outputs": [
    {
     "data": {
      "text/plain": [
       "numpy.complex128"
      ]
     },
     "execution_count": 2,
     "metadata": {},
     "output_type": "execute_result"
    }
   ],
   "source": [
    "petsc4py.PETSc.ScalarType"
   ]
  },
  {
   "cell_type": "code",
   "execution_count": 3,
   "id": "4ceaccab-dc79-46fe-8e94-cddeabf2417c",
   "metadata": {},
   "outputs": [],
   "source": [
    "msh = dolfinx.mesh.create_mesh \\\n",
    "( mpi4py.MPI.COMM_WORLD\n",
    ", ((0, 1, 2),)\n",
    ", ((0, 0), (0, 1), (1, 1))\n",
    ", ufl.Mesh(ufl.Cell('triangle')) )"
   ]
  },
  {
   "cell_type": "code",
   "execution_count": 4,
   "id": "0de488d2-75d8-42fa-9be3-c5240dfe0104",
   "metadata": {},
   "outputs": [
    {
     "data": {
      "text/plain": [
       "array([[0., 0., 0.],\n",
       "       [0., 1., 0.],\n",
       "       [1., 1., 0.]])"
      ]
     },
     "execution_count": 4,
     "metadata": {},
     "output_type": "execute_result"
    }
   ],
   "source": [
    "msh.geometry.x"
   ]
  },
  {
   "cell_type": "code",
   "execution_count": 5,
   "id": "66b365a3-e874-4311-aebd-c208de8d56c0",
   "metadata": {},
   "outputs": [],
   "source": [
    "for i in [1, 2]:\n",
    "    msh.topology.create_connectivity(i, 0)"
   ]
  },
  {
   "cell_type": "code",
   "execution_count": 6,
   "id": "b1e75c9a-df48-4193-9654-3e065a91fd1c",
   "metadata": {},
   "outputs": [
    {
     "data": {
      "text/plain": [
       "[<AdjacencyList> with 3 nodes\n",
       "   0: [0 1 ]\n",
       "   1: [0 2 ]\n",
       "   2: [1 2 ],\n",
       " <AdjacencyList> with 1 nodes\n",
       "   0: [0 1 2 ]]"
      ]
     },
     "execution_count": 6,
     "metadata": {},
     "output_type": "execute_result"
    }
   ],
   "source": [
    "[msh.topology.connectivity(i, 0) for i in [1, 2]]"
   ]
  },
  {
   "cell_type": "code",
   "execution_count": 7,
   "id": "092d82e2-0a5a-4f5f-b20c-0d9cbad3a4e0",
   "metadata": {},
   "outputs": [],
   "source": [
    "V = dolfinx.fem.FunctionSpace(msh, ('N1curl', 1))"
   ]
  },
  {
   "cell_type": "code",
   "execution_count": 8,
   "id": "c16ac5e7-9170-4dc3-94c1-e701269b9d00",
   "metadata": {},
   "outputs": [],
   "source": [
    "bcf = dolfinx.fem.Function(V, dtype=np.complex128)"
   ]
  },
  {
   "cell_type": "code",
   "execution_count": 9,
   "id": "7b49b1a8-0b71-4b62-b2c5-9d440cf615d5",
   "metadata": {},
   "outputs": [
    {
     "data": {
      "text/plain": [
       "array([0.+0.j, 0.+0.j, 0.+0.j])"
      ]
     },
     "execution_count": 9,
     "metadata": {},
     "output_type": "execute_result"
    }
   ],
   "source": [
    "bcf.x.array"
   ]
  },
  {
   "cell_type": "code",
   "execution_count": 10,
   "id": "e97c5c70-afdb-4c9f-bccc-89644a3b90cd",
   "metadata": {},
   "outputs": [],
   "source": [
    "mt = dolfinx.cpp.mesh.MeshTags_int32 \\\n",
    "( msh, 1, [0], [0] )"
   ]
  },
  {
   "cell_type": "code",
   "execution_count": 11,
   "id": "e36500ea-4efc-42b0-9f7a-6b6a2534dc54",
   "metadata": {},
   "outputs": [
    {
     "data": {
      "text/plain": [
       "[array([1], dtype=int32), array([0], dtype=int32)]"
      ]
     },
     "execution_count": 11,
     "metadata": {},
     "output_type": "execute_result"
    }
   ],
   "source": [
    "[dolfinx.fem.locate_dofs_topological(V, 1, [i]) for i in [1, 2]]"
   ]
  },
  {
   "cell_type": "code",
   "execution_count": 12,
   "id": "64d28e0e-90bb-4666-8b18-487f130d42de",
   "metadata": {},
   "outputs": [],
   "source": [
    "bc = dolfinx.fem.dirichletbc(bcf, [0, 1])"
   ]
  },
  {
   "cell_type": "code",
   "execution_count": 13,
   "id": "3f70ee57-c502-43f4-9966-824267a157db",
   "metadata": {},
   "outputs": [],
   "source": [
    "ds = ufl.Measure('ds', msh, subdomain_data=mt)"
   ]
  },
  {
   "cell_type": "code",
   "execution_count": 14,
   "id": "995fc72c-fe25-498d-825e-5335dd943be2",
   "metadata": {},
   "outputs": [],
   "source": [
    "u = ufl.TrialFunction(V)"
   ]
  },
  {
   "cell_type": "code",
   "execution_count": 15,
   "id": "09eb671c-a9c6-4f94-8250-d9551de3ef6c",
   "metadata": {},
   "outputs": [],
   "source": [
    "v = ufl.TestFunction(V)"
   ]
  },
  {
   "cell_type": "code",
   "execution_count": 16,
   "id": "aff35752-7978-493a-b9a8-bcb76474c268",
   "metadata": {},
   "outputs": [],
   "source": [
    "a = ufl.inner(ufl.curl(u), ufl.curl(v))*ufl.dx"
   ]
  },
  {
   "cell_type": "code",
   "execution_count": 17,
   "id": "634f9cc5-5b51-419a-ba1c-ea754cd3cb8e",
   "metadata": {},
   "outputs": [],
   "source": [
    "exf = dolfinx.fem.Function(V, dtype=np.complex128)"
   ]
  },
  {
   "cell_type": "code",
   "execution_count": 18,
   "id": "41d6dae9-a5a6-4a4b-91d9-36165c4a6dff",
   "metadata": {},
   "outputs": [],
   "source": [
    "exf.x.array[:] = [0, 0, 1]"
   ]
  },
  {
   "cell_type": "code",
   "execution_count": 19,
   "id": "ab147254-d327-4867-8f02-4939d35de471",
   "metadata": {},
   "outputs": [],
   "source": [
    "n = ufl.FacetNormal(msh)"
   ]
  },
  {
   "cell_type": "code",
   "execution_count": 25,
   "id": "c046a349-daab-407c-abc9-5d0349b8808c",
   "metadata": {},
   "outputs": [],
   "source": [
    "L = ufl.inner \\\n",
    "( exf[0]*n[1]-exf[1]*n[0]\n",
    ",   v[0]*n[1]-  v[1]*n[0] )*-1j*ds(0)"
   ]
  },
  {
   "cell_type": "code",
   "execution_count": 26,
   "id": "5df97174-7751-4945-9c59-974b8357a2be",
   "metadata": {},
   "outputs": [],
   "source": [
    "#L = ufl.inner(ufl.cross(exf, n)[2], ufl.cross(v, n)[2])*ds(0)"
   ]
  },
  {
   "cell_type": "code",
   "execution_count": 27,
   "id": "7eecc1f0-4270-4da1-bbfc-97cf8b1fb9dd",
   "metadata": {},
   "outputs": [],
   "source": [
    "problem = dolfinx.fem.petsc.LinearProblem(a, L, [bc])"
   ]
  },
  {
   "cell_type": "code",
   "execution_count": 28,
   "id": "15cc224e-370f-4a89-881b-a2ecc34ae3a7",
   "metadata": {},
   "outputs": [],
   "source": [
    "sol = problem.solve()"
   ]
  },
  {
   "cell_type": "code",
   "execution_count": 29,
   "id": "a9d6f31c-b143-4e89-9a7a-03682e5160f4",
   "metadata": {},
   "outputs": [
    {
     "data": {
      "text/plain": [
       "array([0.+0.j , 0.+0.j , 0.-0.5j])"
      ]
     },
     "execution_count": 29,
     "metadata": {},
     "output_type": "execute_result"
    }
   ],
   "source": [
    "sol.x.array"
   ]
  },
  {
   "cell_type": "code",
   "execution_count": 30,
   "id": "b8319b6e-fa80-4a1d-b014-3e1ee42fd630",
   "metadata": {},
   "outputs": [
    {
     "data": {
      "text/plain": [
       "array([[1.+0.j, 0.+0.j, 0.+0.j],\n",
       "       [0.+0.j, 1.+0.j, 0.+0.j],\n",
       "       [0.+0.j, 0.+0.j, 2.+0.j]])"
      ]
     },
     "execution_count": 30,
     "metadata": {},
     "output_type": "execute_result"
    }
   ],
   "source": [
    "problem.A.convert('dense').getDenseArray()"
   ]
  },
  {
   "cell_type": "code",
   "execution_count": 31,
   "id": "d116acb0-6e47-4d21-b509-ac5ee18f3ed4",
   "metadata": {},
   "outputs": [
    {
     "data": {
      "text/plain": [
       "array([0.+0.j, 0.+0.j, 0.-1.j])"
      ]
     },
     "execution_count": 31,
     "metadata": {},
     "output_type": "execute_result"
    }
   ],
   "source": [
    "problem.b.getArray()"
   ]
  },
  {
   "cell_type": "code",
   "execution_count": null,
   "id": "84deb87b-6a6e-48f1-b529-30638169c146",
   "metadata": {},
   "outputs": [],
   "source": []
  }
 ],
 "metadata": {
  "kernelspec": {
   "display_name": "Python 3 (DOLFINx complex)",
   "language": "python",
   "name": "python3-complex"
  },
  "language_info": {
   "codemirror_mode": {
    "name": "ipython",
    "version": 3
   },
   "file_extension": ".py",
   "mimetype": "text/x-python",
   "name": "python",
   "nbconvert_exporter": "python",
   "pygments_lexer": "ipython3",
   "version": "3.10.6"
  }
 },
 "nbformat": 4,
 "nbformat_minor": 5
}
