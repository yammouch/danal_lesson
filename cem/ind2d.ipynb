{
 "cells": [
  {
   "cell_type": "markdown",
   "id": "df1f0a50-c519-4169-b19c-100474e390a8",
   "metadata": {},
   "source": [
    " <img src=\"ind2d.svg\">"
   ]
  },
  {
   "cell_type": "code",
   "execution_count": null,
   "id": "59004473-0c8f-4caa-9e36-0ba25719b9ec",
   "metadata": {},
   "outputs": [],
   "source": [
    "import sympy.vector\n",
    "import itertools"
   ]
  },
  {
   "cell_type": "code",
   "execution_count": null,
   "id": "8fc59a31-9daa-459a-a7e1-787ffff95328",
   "metadata": {},
   "outputs": [],
   "source": [
    "l, h, u0 = sympy.symbols('l h \\mu_0')"
   ]
  },
  {
   "cell_type": "code",
   "execution_count": null,
   "id": "c396d6cc-115b-49c2-a2f0-1de38587acc4",
   "metadata": {},
   "outputs": [],
   "source": [
    "u0"
   ]
  },
  {
   "cell_type": "code",
   "execution_count": null,
   "id": "63dcde9b-5bdd-4323-9b44-9854b76b1cbd",
   "metadata": {},
   "outputs": [],
   "source": [
    "N = sympy.vector.CoordSys3D('N'); N"
   ]
  },
  {
   "cell_type": "code",
   "execution_count": null,
   "id": "85186e63-6296-4e09-b28a-47cf9336cf6a",
   "metadata": {},
   "outputs": [],
   "source": [
    "p = \\\n",
    "[  l*N.i\n",
    ", -h*N.j\n",
    ",  h*N.j ]; p"
   ]
  },
  {
   "cell_type": "code",
   "execution_count": null,
   "id": "da8eb23f-d1ca-41db-a254-d82ceb026184",
   "metadata": {},
   "outputs": [],
   "source": [
    "q = [sympy.vector.Vector.zero] + [v - p[0] for v in p[1:]]\n",
    "q"
   ]
  },
  {
   "cell_type": "code",
   "execution_count": null,
   "id": "36bc13f7-5492-4df6-ad52-d492c18ed0b9",
   "metadata": {},
   "outputs": [],
   "source": [
    "area = N.k & (q[2] ^ q[1]); area"
   ]
  },
  {
   "cell_type": "code",
   "execution_count": null,
   "id": "aab337fe-e815-4d08-8a58-11d942de36be",
   "metadata": {},
   "outputs": [],
   "source": [
    "n = \\\n",
    "[ None\n",
    ",  q[2]/area\n",
    ", -q[1]/area ]\n",
    "n[0] = -n[1] - n[2]\n",
    "n"
   ]
  },
  {
   "cell_type": "code",
   "execution_count": null,
   "id": "1d773bf8-6fec-4751-94e2-45f14a688754",
   "metadata": {},
   "outputs": [],
   "source": [
    "n[0]"
   ]
  },
  {
   "cell_type": "code",
   "execution_count": null,
   "id": "b85703a5-1f5a-4a24-9b7e-c90b7a5f4668",
   "metadata": {},
   "outputs": [],
   "source": [
    "n[1]"
   ]
  },
  {
   "cell_type": "code",
   "execution_count": null,
   "id": "e050849c-29c9-418f-af29-5f6ac3098ac0",
   "metadata": {},
   "outputs": [],
   "source": [
    "n[2]"
   ]
  },
  {
   "cell_type": "code",
   "execution_count": null,
   "id": "f94edcaf-8c9a-40fb-bd68-e3c9c8951514",
   "metadata": {},
   "outputs": [],
   "source": [
    "oprod = n[1] ^ n[2]; oprod"
   ]
  },
  {
   "cell_type": "code",
   "execution_count": null,
   "id": "7ec80650-3b45-4cfd-b501-a529839c74bf",
   "metadata": {},
   "outputs": [],
   "source": [
    "iprod = oprod & oprod; iprod"
   ]
  },
  {
   "cell_type": "code",
   "execution_count": null,
   "id": "e59c531f-fb06-4f01-9f26-46309348a737",
   "metadata": {},
   "outputs": [],
   "source": [
    "lhs = 4 * iprod * area"
   ]
  },
  {
   "cell_type": "code",
   "execution_count": null,
   "id": "5dba1daf-d0c8-4059-a95c-6423b947c94e",
   "metadata": {},
   "outputs": [],
   "source": []
  }
 ],
 "metadata": {
  "kernelspec": {
   "display_name": "Python 3",
   "language": "python",
   "name": "python3"
  },
  "language_info": {
   "codemirror_mode": {
    "name": "ipython",
    "version": 3
   },
   "file_extension": ".py",
   "mimetype": "text/x-python",
   "name": "python",
   "nbconvert_exporter": "python",
   "pygments_lexer": "ipython3",
   "version": "3.9.1"
  }
 },
 "nbformat": 4,
 "nbformat_minor": 5
}
