{
 "cells": [
  {
   "cell_type": "code",
   "execution_count": 1,
   "id": "7b7d1306-4684-4320-88f5-d03a4eb7776b",
   "metadata": {},
   "outputs": [
    {
     "name": "stderr",
     "output_type": "stream",
     "text": [
      "/home/tyama/miniconda3/lib/python3.9/site-packages/scipy/__init__.py:146: UserWarning: A NumPy version >=1.16.5 and <1.23.0 is required for this version of SciPy (detected version 1.23.1\n",
      "  warnings.warn(f\"A NumPy version >={np_minversion} and <{np_maxversion}\"\n"
     ]
    }
   ],
   "source": [
    "import numpy as np\n",
    "import matplotlib.pyplot as plt\n",
    "import p02"
   ]
  },
  {
   "cell_type": "code",
   "execution_count": 2,
   "id": "687219a2-4a8c-4057-972e-6b86df6c75c5",
   "metadata": {},
   "outputs": [],
   "source": [
    "np.set_printoptions(precision=2, linewidth=200)"
   ]
  },
  {
   "cell_type": "code",
   "execution_count": 3,
   "id": "f33228e8-ae0f-4da6-90b0-939737b67bfa",
   "metadata": {},
   "outputs": [
    {
     "name": "stdout",
     "output_type": "stream",
     "text": [
      "np.fft.fftn 0:00:00.000449\n",
      "symmetrize 0:00:00.000488\n",
      "f_basis_nwn_cart 0:00:00.004673\n",
      "f_vext_nwn 0:00:00.003352\n",
      "f_vext_mat 0:00:00.001541\n",
      "f_kin_mat 0:00:00.001381\n",
      "eigh 0:00:00.028483\n"
     ]
    }
   ],
   "source": [
    "basis_nwn = np.mgrid[-4:5,-4:5].reshape(2, -1).T\n",
    "box_size = np.full(2, 2*np.pi)\n",
    "vext = np.full((16, 16), 20, dtype=float)\n",
    "vext[0:7, 0:7] = 0\n",
    "e, v = p02.solve_1elec(basis_nwn, box_size, vext)"
   ]
  },
  {
   "cell_type": "code",
   "execution_count": 4,
   "id": "8ece713a-2ac4-4c0a-9120-4e987afdb132",
   "metadata": {},
   "outputs": [
    {
     "data": {
      "text/plain": [
       "array([1.01, 2.6 , 2.6 , 4.18, 5.05, 5.05])"
      ]
     },
     "execution_count": 4,
     "metadata": {},
     "output_type": "execute_result"
    }
   ],
   "source": [
    "e"
   ]
  },
  {
   "cell_type": "code",
   "execution_count": 5,
   "id": "d9c100ef-0ed6-41f1-8de2-08b7cf870d66",
   "metadata": {},
   "outputs": [],
   "source": [
    "w = np.zeros((v.shape[1],) + vext.shape, dtype=np.complex128)"
   ]
  },
  {
   "cell_type": "code",
   "execution_count": 6,
   "id": "81a62763-71bd-45d4-b49d-f20999f33a7c",
   "metadata": {},
   "outputs": [],
   "source": [
    "w[(slice(None), ) + tuple(basis_nwn.T)] = v.T"
   ]
  },
  {
   "cell_type": "code",
   "execution_count": 7,
   "id": "db4d9112-dc97-42dc-a3bf-9329bdad08f6",
   "metadata": {},
   "outputs": [
    {
     "data": {
      "text/plain": [
       "3"
      ]
     },
     "execution_count": 7,
     "metadata": {},
     "output_type": "execute_result"
    }
   ],
   "source": [
    "w.ndim"
   ]
  },
  {
   "cell_type": "code",
   "execution_count": 8,
   "id": "6dddc49d-e68e-4618-879c-4ba046b94d4f",
   "metadata": {},
   "outputs": [],
   "source": [
    "w_re = np.fft.ifftn(w, norm='forward', axes=range(1,w.ndim))"
   ]
  },
  {
   "cell_type": "code",
   "execution_count": 9,
   "id": "ac5d7621-f6cd-4564-b29f-7b64fdaa2bef",
   "metadata": {},
   "outputs": [],
   "source": [
    "w2 = w_re.real**2 + w_re.imag**2"
   ]
  },
  {
   "cell_type": "code",
   "execution_count": 10,
   "id": "6a1ea9b7-453f-489f-b65f-f193bd4ba3b5",
   "metadata": {},
   "outputs": [
    {
     "data": {
      "image/png": "[encoded data removed]",
      "text/plain": [
       "<Figure size 432x288 with 6 Axes>"
      ]
     },
     "metadata": {
      "needs_background": "light"
     },
     "output_type": "display_data"
    }
   ],
   "source": [
    "fig, ax = plt.subplots(2, 3)\n",
    "for i in range(6):\n",
    "    ax[i//3][i%3].imshow(w2[i])"
   ]
  },
  {
   "cell_type": "code",
   "execution_count": 11,
   "id": "5d27d551-d8ab-4641-89d3-3f3da05fcd40",
   "metadata": {},
   "outputs": [
    {
     "data": {
      "text/plain": [
       "256.00000000000006"
      ]
     },
     "execution_count": 11,
     "metadata": {},
     "output_type": "execute_result"
    }
   ],
   "source": [
    "w2[0].sum()"
   ]
  },
  {
   "cell_type": "code",
   "execution_count": 12,
   "id": "7ccfd1d0-a0b6-4364-8744-441412f0226a",
   "metadata": {},
   "outputs": [
    {
     "data": {
      "text/plain": [
       "array([ 0.25+0.j,  0.  +0.j, -0.25+0.j,  0.  +0.j])"
      ]
     },
     "execution_count": 12,
     "metadata": {},
     "output_type": "execute_result"
    }
   ],
   "source": [
    "np.fft.ifftn([0, 0.5, 0, 0.5])"
   ]
  },
  {
   "cell_type": "code",
   "execution_count": 13,
   "id": "2c15ef98-14d5-4a93-94a0-a2c23f4e3338",
   "metadata": {},
   "outputs": [
    {
     "data": {
      "text/plain": [
       "array([ 1.+0.j,  0.+0.j, -1.+0.j,  0.+0.j])"
      ]
     },
     "execution_count": 13,
     "metadata": {},
     "output_type": "execute_result"
    }
   ],
   "source": [
    "np.fft.ifftn([0, 0.5, 0, 0.5], norm='forward')"
   ]
  },
  {
   "cell_type": "code",
   "execution_count": 14,
   "id": "a3fd3126-9d91-43c3-a046-54342b109937",
   "metadata": {},
   "outputs": [
    {
     "data": {
      "text/plain": [
       "array([0.+0.j, 2.+0.j, 0.+0.j, 2.+0.j])"
      ]
     },
     "execution_count": 14,
     "metadata": {},
     "output_type": "execute_result"
    }
   ],
   "source": [
    "np.fft.fftn([1, 0, -1, 0])"
   ]
  },
  {
   "cell_type": "code",
   "execution_count": 15,
   "id": "1c2a884b-9279-4d99-a245-5236d67d29e6",
   "metadata": {},
   "outputs": [
    {
     "data": {
      "text/plain": [
       "array([0. +0.j, 0.5+0.j, 0. +0.j, 0.5+0.j])"
      ]
     },
     "execution_count": 15,
     "metadata": {},
     "output_type": "execute_result"
    }
   ],
   "source": [
    "np.fft.fftn([1, 0, -1, 0], norm='forward')"
   ]
  },
  {
   "cell_type": "code",
   "execution_count": null,
   "id": "f7fe0b92-0d69-480f-b638-c56b29677647",
   "metadata": {},
   "outputs": [],
   "source": []
  }
 ],
 "metadata": {
  "kernelspec": {
   "display_name": "Python 3 (ipykernel)",
   "language": "python",
   "name": "python3"
  },
  "language_info": {
   "codemirror_mode": {
    "name": "ipython",
    "version": 3
   },
   "file_extension": ".py",
   "mimetype": "text/x-python",
   "name": "python",
   "nbconvert_exporter": "python",
   "pygments_lexer": "ipython3",
   "version": "3.9.12"
  }
 },
 "nbformat": 4,
 "nbformat_minor": 5
}
