{
 "cells": [
  {
   "cell_type": "code",
   "execution_count": 1,
   "id": "8f6bd82d-2685-480a-a950-09d3d22de298",
   "metadata": {},
   "outputs": [],
   "source": [
    "import numpy as np"
   ]
  },
  {
   "cell_type": "code",
   "execution_count": 2,
   "id": "3fe23195-f90d-48d2-ac21-8f45b5e6929e",
   "metadata": {},
   "outputs": [],
   "source": [
    "np.set_printoptions(precision=3, linewidth=100)"
   ]
  },
  {
   "cell_type": "code",
   "execution_count": 3,
   "id": "6c455379-5006-4212-9150-ac28f8005362",
   "metadata": {},
   "outputs": [],
   "source": [
    "eig_vec = np.array \\\n",
    "( [ [ 1, 0      , 0       ]\n",
    "  , [ 0, 2**-0.5, 0       ]\n",
    "  , [ 0, 2**-0.5, 0       ]\n",
    "  , [ 0, 0      , 2**-0.5 ]\n",
    "  , [ 0, 0      , 2**-0.5 ] ] )"
   ]
  },
  {
   "cell_type": "code",
   "execution_count": 4,
   "id": "36bf9a1c-2f15-4e31-85a3-92cdb77d7ac4",
   "metadata": {},
   "outputs": [
    {
     "data": {
      "text/plain": [
       "array([[1.   , 0.   , 0.   ],\n",
       "       [0.   , 0.707, 0.   ],\n",
       "       [0.   , 0.707, 0.   ],\n",
       "       [0.   , 0.   , 0.707],\n",
       "       [0.   , 0.   , 0.707]])"
      ]
     },
     "execution_count": 4,
     "metadata": {},
     "output_type": "execute_result"
    }
   ],
   "source": [
    "eig_vec"
   ]
  },
  {
   "cell_type": "code",
   "execution_count": 5,
   "id": "bd355cca-5a27-4a00-b601-3095c78b2dc8",
   "metadata": {},
   "outputs": [],
   "source": [
    "basis_nwn = np.array \\\n",
    "( [ [  0,  0 ]\n",
    "  , [ -1,  0 ]\n",
    "  , [  1,  0 ]\n",
    "  , [  0, -1 ]\n",
    "  , [  0,  1 ] ] )"
   ]
  },
  {
   "cell_type": "code",
   "execution_count": 6,
   "id": "5b6cb0a3-715e-46f7-9034-40380bf6d1d4",
   "metadata": {},
   "outputs": [
    {
     "data": {
      "text/plain": [
       "array([[ 0,  0],\n",
       "       [-1,  0],\n",
       "       [ 1,  0],\n",
       "       [ 0, -1],\n",
       "       [ 0,  1]])"
      ]
     },
     "execution_count": 6,
     "metadata": {},
     "output_type": "execute_result"
    }
   ],
   "source": [
    "basis_nwn"
   ]
  },
  {
   "cell_type": "code",
   "execution_count": 7,
   "id": "81c7cbf1-8bb2-4828-b96b-4cb61310455c",
   "metadata": {},
   "outputs": [],
   "source": [
    "box_size = np.array([1, 1])"
   ]
  },
  {
   "cell_type": "code",
   "execution_count": 8,
   "id": "ed4d3059-59c2-46ea-9891-09dc031d3308",
   "metadata": {},
   "outputs": [
    {
     "data": {
      "text/plain": [
       "array([1, 1])"
      ]
     },
     "execution_count": 8,
     "metadata": {},
     "output_type": "execute_result"
    }
   ],
   "source": [
    "box_size"
   ]
  },
  {
   "cell_type": "code",
   "execution_count": 9,
   "id": "d5d1ba3f-d1ce-4f7a-80e2-1f8d0a35cfb8",
   "metadata": {},
   "outputs": [
    {
     "data": {
      "text/plain": [
       "1"
      ]
     },
     "execution_count": 9,
     "metadata": {},
     "output_type": "execute_result"
    }
   ],
   "source": [
    "box_size.prod()"
   ]
  },
  {
   "cell_type": "code",
   "execution_count": 10,
   "id": "758fdf74-a848-4b79-af3e-1aaadfcbf8d7",
   "metadata": {},
   "outputs": [],
   "source": [
    "vext = np.zeros((4, 4), dtype=float)"
   ]
  },
  {
   "cell_type": "code",
   "execution_count": 11,
   "id": "96bf5dd8-65f0-4101-ae87-3296697df27e",
   "metadata": {},
   "outputs": [
    {
     "data": {
      "text/plain": [
       "array([[0., 0., 0., 0.],\n",
       "       [0., 0., 0., 0.],\n",
       "       [0., 0., 0., 0.],\n",
       "       [0., 0., 0., 0.]])"
      ]
     },
     "execution_count": 11,
     "metadata": {},
     "output_type": "execute_result"
    }
   ],
   "source": [
    "vext"
   ]
  },
  {
   "cell_type": "code",
   "execution_count": 12,
   "id": "c65c8d8a-ba61-43a4-82c3-503c097c85e4",
   "metadata": {},
   "outputs": [],
   "source": [
    "wf_rc = np.zeros((eig_vec.shape[1],) + vext.shape, dtype=np.complex128)"
   ]
  },
  {
   "cell_type": "code",
   "execution_count": 13,
   "id": "252ce05d-8723-49e6-98ed-9bc3903759ca",
   "metadata": {},
   "outputs": [
    {
     "data": {
      "text/plain": [
       "array([[[0.+0.j, 0.+0.j, 0.+0.j, 0.+0.j],\n",
       "        [0.+0.j, 0.+0.j, 0.+0.j, 0.+0.j],\n",
       "        [0.+0.j, 0.+0.j, 0.+0.j, 0.+0.j],\n",
       "        [0.+0.j, 0.+0.j, 0.+0.j, 0.+0.j]],\n",
       "\n",
       "       [[0.+0.j, 0.+0.j, 0.+0.j, 0.+0.j],\n",
       "        [0.+0.j, 0.+0.j, 0.+0.j, 0.+0.j],\n",
       "        [0.+0.j, 0.+0.j, 0.+0.j, 0.+0.j],\n",
       "        [0.+0.j, 0.+0.j, 0.+0.j, 0.+0.j]],\n",
       "\n",
       "       [[0.+0.j, 0.+0.j, 0.+0.j, 0.+0.j],\n",
       "        [0.+0.j, 0.+0.j, 0.+0.j, 0.+0.j],\n",
       "        [0.+0.j, 0.+0.j, 0.+0.j, 0.+0.j],\n",
       "        [0.+0.j, 0.+0.j, 0.+0.j, 0.+0.j]]])"
      ]
     },
     "execution_count": 13,
     "metadata": {},
     "output_type": "execute_result"
    }
   ],
   "source": [
    "wf_rc"
   ]
  },
  {
   "cell_type": "code",
   "execution_count": 14,
   "id": "d5be0c29-73b4-4d95-aa57-6f830962133d",
   "metadata": {},
   "outputs": [],
   "source": [
    "wf_rc[(slice(None), ) + tuple(basis_nwn.T)] = (eig_vec/box_size.prod()).T"
   ]
  },
  {
   "cell_type": "code",
   "execution_count": 15,
   "id": "bef6d779-20a5-4709-9614-f2e1263a004c",
   "metadata": {},
   "outputs": [
    {
     "data": {
      "text/plain": [
       "array([[[1.   +0.j, 0.   +0.j, 0.   +0.j, 0.   +0.j],\n",
       "        [0.   +0.j, 0.   +0.j, 0.   +0.j, 0.   +0.j],\n",
       "        [0.   +0.j, 0.   +0.j, 0.   +0.j, 0.   +0.j],\n",
       "        [0.   +0.j, 0.   +0.j, 0.   +0.j, 0.   +0.j]],\n",
       "\n",
       "       [[0.   +0.j, 0.   +0.j, 0.   +0.j, 0.   +0.j],\n",
       "        [0.707+0.j, 0.   +0.j, 0.   +0.j, 0.   +0.j],\n",
       "        [0.   +0.j, 0.   +0.j, 0.   +0.j, 0.   +0.j],\n",
       "        [0.707+0.j, 0.   +0.j, 0.   +0.j, 0.   +0.j]],\n",
       "\n",
       "       [[0.   +0.j, 0.707+0.j, 0.   +0.j, 0.707+0.j],\n",
       "        [0.   +0.j, 0.   +0.j, 0.   +0.j, 0.   +0.j],\n",
       "        [0.   +0.j, 0.   +0.j, 0.   +0.j, 0.   +0.j],\n",
       "        [0.   +0.j, 0.   +0.j, 0.   +0.j, 0.   +0.j]]])"
      ]
     },
     "execution_count": 15,
     "metadata": {},
     "output_type": "execute_result"
    }
   ],
   "source": [
    "wf_rc"
   ]
  },
  {
   "cell_type": "code",
   "execution_count": 16,
   "id": "8b2e6930-2029-48ee-84af-82ca237ed45c",
   "metadata": {},
   "outputs": [],
   "source": [
    "wf = np.fft.ifftn(wf_rc, norm='forward', axes=range(1,wf_rc.ndim))"
   ]
  },
  {
   "cell_type": "code",
   "execution_count": 17,
   "id": "2cc56001-39ed-485f-a560-e98bd0b6ef97",
   "metadata": {},
   "outputs": [
    {
     "data": {
      "text/plain": [
       "array([[[ 1.   +0.j,  1.   +0.j,  1.   +0.j,  1.   +0.j],\n",
       "        [ 1.   +0.j,  1.   +0.j,  1.   +0.j,  1.   +0.j],\n",
       "        [ 1.   +0.j,  1.   +0.j,  1.   +0.j,  1.   +0.j],\n",
       "        [ 1.   +0.j,  1.   +0.j,  1.   +0.j,  1.   +0.j]],\n",
       "\n",
       "       [[ 1.414+0.j,  1.414+0.j,  1.414+0.j,  1.414+0.j],\n",
       "        [ 0.   +0.j,  0.   +0.j,  0.   +0.j,  0.   +0.j],\n",
       "        [-1.414+0.j, -1.414+0.j, -1.414+0.j, -1.414+0.j],\n",
       "        [ 0.   +0.j,  0.   +0.j,  0.   +0.j,  0.   +0.j]],\n",
       "\n",
       "       [[ 1.414+0.j,  0.   +0.j, -1.414+0.j,  0.   +0.j],\n",
       "        [ 1.414+0.j,  0.   +0.j, -1.414+0.j,  0.   +0.j],\n",
       "        [ 1.414+0.j,  0.   +0.j, -1.414+0.j,  0.   +0.j],\n",
       "        [ 1.414+0.j,  0.   +0.j, -1.414+0.j,  0.   +0.j]]])"
      ]
     },
     "execution_count": 17,
     "metadata": {},
     "output_type": "execute_result"
    }
   ],
   "source": [
    "wf"
   ]
  },
  {
   "cell_type": "code",
   "execution_count": 18,
   "id": "87be95da-707a-427c-b548-660dd22f91d6",
   "metadata": {},
   "outputs": [],
   "source": [
    "elec_density_each = wf.real**2 + wf.imag**2"
   ]
  },
  {
   "cell_type": "code",
   "execution_count": 19,
   "id": "03ae74a1-ee72-4633-83ef-db8456fa8fb9",
   "metadata": {},
   "outputs": [
    {
     "data": {
      "text/plain": [
       "array([[[1., 1., 1., 1.],\n",
       "        [1., 1., 1., 1.],\n",
       "        [1., 1., 1., 1.],\n",
       "        [1., 1., 1., 1.]],\n",
       "\n",
       "       [[2., 2., 2., 2.],\n",
       "        [0., 0., 0., 0.],\n",
       "        [2., 2., 2., 2.],\n",
       "        [0., 0., 0., 0.]],\n",
       "\n",
       "       [[2., 0., 2., 0.],\n",
       "        [2., 0., 2., 0.],\n",
       "        [2., 0., 2., 0.],\n",
       "        [2., 0., 2., 0.]]])"
      ]
     },
     "execution_count": 19,
     "metadata": {},
     "output_type": "execute_result"
    }
   ],
   "source": [
    "elec_density_each"
   ]
  },
  {
   "cell_type": "code",
   "execution_count": 20,
   "id": "67155c11-5989-4b84-a296-fed1c3f525ad",
   "metadata": {},
   "outputs": [],
   "source": [
    "elec_density = elec_density_each.sum(axis=0)"
   ]
  },
  {
   "cell_type": "code",
   "execution_count": 21,
   "id": "6e7b6312-4f39-42aa-8f18-aab52d9d5763",
   "metadata": {},
   "outputs": [
    {
     "data": {
      "text/plain": [
       "array([[5., 3., 5., 3.],\n",
       "       [3., 1., 3., 1.],\n",
       "       [5., 3., 5., 3.],\n",
       "       [3., 1., 3., 1.]])"
      ]
     },
     "execution_count": 21,
     "metadata": {},
     "output_type": "execute_result"
    }
   ],
   "source": [
    "elec_density"
   ]
  },
  {
   "cell_type": "code",
   "execution_count": 22,
   "id": "d324722b-b28e-4e0f-a74c-30985f14700b",
   "metadata": {},
   "outputs": [],
   "source": [
    "elec_density_rc = np.fft.fftn(elec_density, norm='forward')"
   ]
  },
  {
   "cell_type": "code",
   "execution_count": 23,
   "id": "1f387d89-c529-4c9b-b2dd-f8f2bedc5c01",
   "metadata": {},
   "outputs": [
    {
     "data": {
      "text/plain": [
       "array([[3.+0.j, 0.+0.j, 1.+0.j, 0.+0.j],\n",
       "       [0.+0.j, 0.+0.j, 0.+0.j, 0.+0.j],\n",
       "       [1.+0.j, 0.+0.j, 0.+0.j, 0.+0.j],\n",
       "       [0.+0.j, 0.+0.j, 0.+0.j, 0.+0.j]])"
      ]
     },
     "execution_count": 23,
     "metadata": {},
     "output_type": "execute_result"
    }
   ],
   "source": [
    "elec_density_rc"
   ]
  },
  {
   "cell_type": "code",
   "execution_count": null,
   "id": "3102a1c9-3897-4952-ae30-0466f71327e8",
   "metadata": {},
   "outputs": [],
   "source": []
  }
 ],
 "metadata": {
  "kernelspec": {
   "display_name": "Python 3 (ipykernel)",
   "language": "python",
   "name": "python3"
  },
  "language_info": {
   "codemirror_mode": {
    "name": "ipython",
    "version": 3
   },
   "file_extension": ".py",
   "mimetype": "text/x-python",
   "name": "python",
   "nbconvert_exporter": "python",
   "pygments_lexer": "ipython3",
   "version": "3.9.12"
  }
 },
 "nbformat": 4,
 "nbformat_minor": 5
}
