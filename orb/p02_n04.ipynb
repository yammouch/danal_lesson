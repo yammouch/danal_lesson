{
 "cells": [
  {
   "cell_type": "code",
   "execution_count": 1,
   "id": "8c54b7c1-952e-47df-8efb-f4d633002a92",
   "metadata": {},
   "outputs": [
    {
     "name": "stderr",
     "output_type": "stream",
     "text": [
      "/home/tyama/miniconda3/lib/python3.9/site-packages/scipy/__init__.py:146: UserWarning: A NumPy version >=1.16.5 and <1.23.0 is required for this version of SciPy (detected version 1.23.1\n",
      "  warnings.warn(f\"A NumPy version >={np_minversion} and <{np_maxversion}\"\n"
     ]
    }
   ],
   "source": [
    "import numpy as np\n",
    "import p02"
   ]
  },
  {
   "cell_type": "code",
   "execution_count": 2,
   "id": "0b6bdf59-0993-413a-b02d-15b3d5b86be3",
   "metadata": {},
   "outputs": [],
   "source": [
    "d0 = p02.dist2([4], np.zeros(4))"
   ]
  },
  {
   "cell_type": "code",
   "execution_count": 3,
   "id": "58aa513a-39fc-425b-bb29-eee32a41ded1",
   "metadata": {},
   "outputs": [
    {
     "data": {
      "text/plain": [
       "array([2.25, 0.25, 0.25, 2.25])"
      ]
     },
     "execution_count": 3,
     "metadata": {},
     "output_type": "execute_result"
    }
   ],
   "source": [
    "d0"
   ]
  },
  {
   "cell_type": "code",
   "execution_count": 4,
   "id": "20787a4c-12bb-476d-8b24-5b03ca6ffc71",
   "metadata": {},
   "outputs": [],
   "source": [
    "d = np.roll(d0, -(len(d0)//2))"
   ]
  },
  {
   "cell_type": "code",
   "execution_count": 5,
   "id": "c28a8ffa-0c6c-427c-a630-b110638d34a5",
   "metadata": {},
   "outputs": [
    {
     "data": {
      "text/plain": [
       "array([0.25, 2.25, 2.25, 0.25])"
      ]
     },
     "execution_count": 5,
     "metadata": {},
     "output_type": "execute_result"
    }
   ],
   "source": [
    "d"
   ]
  },
  {
   "cell_type": "code",
   "execution_count": 6,
   "id": "6eb92f24-feb3-4e10-bff3-10ece2143236",
   "metadata": {},
   "outputs": [],
   "source": [
    "D = np.fft.fftn(d, norm='forward')"
   ]
  },
  {
   "cell_type": "code",
   "execution_count": 7,
   "id": "7fad69f6-5d0b-4f8b-83e2-a844a5a02a4f",
   "metadata": {},
   "outputs": [
    {
     "data": {
      "text/plain": [
       "array([ 1.25+0.j , -0.5 -0.5j,  0.  +0.j , -0.5 +0.5j])"
      ]
     },
     "execution_count": 7,
     "metadata": {},
     "output_type": "execute_result"
    }
   ],
   "source": [
    "D"
   ]
  },
  {
   "cell_type": "code",
   "execution_count": 8,
   "id": "297614f4-d9b0-4f10-9242-e5ba076ef066",
   "metadata": {},
   "outputs": [],
   "source": [
    "Ds = p02.symmetrize4move(D)"
   ]
  },
  {
   "cell_type": "code",
   "execution_count": 9,
   "id": "88c3e31c-38a1-4f71-8ff0-657bd71df73e",
   "metadata": {},
   "outputs": [
    {
     "data": {
      "text/plain": [
       "array([ 1.25+0.j , -0.5 -0.5j,  0.  +0.j ,  0.  +0.j , -0.5 +0.5j])"
      ]
     },
     "execution_count": 9,
     "metadata": {},
     "output_type": "execute_result"
    }
   ],
   "source": [
    "Ds"
   ]
  },
  {
   "cell_type": "code",
   "execution_count": 10,
   "id": "7072dbd8-dc46-4f5c-90bb-1a6f5420efa7",
   "metadata": {},
   "outputs": [
    {
     "name": "stdout",
     "output_type": "stream",
     "text": [
      "[ 0.        +0.j -0.78539816+0.j -1.57079633+0.j  1.57079633+0.j\n",
      "  0.78539816+0.j]\n"
     ]
    }
   ],
   "source": [
    "Dss = p02.slide_half_grid(Ds)"
   ]
  },
  {
   "cell_type": "code",
   "execution_count": 11,
   "id": "8d15f9a4-408a-47ad-b827-20146bacb4e8",
   "metadata": {},
   "outputs": [
    {
     "data": {
      "text/plain": [
       "array([ 1.25      +0.00000000e+00j, -0.70710678-5.55111512e-17j,\n",
       "        0.        +0.00000000e+00j,  0.        +0.00000000e+00j,\n",
       "       -0.70710678+5.55111512e-17j])"
      ]
     },
     "execution_count": 11,
     "metadata": {},
     "output_type": "execute_result"
    }
   ],
   "source": [
    "Dss"
   ]
  },
  {
   "cell_type": "code",
   "execution_count": 12,
   "id": "8dadc261-0773-492c-97b1-149f8bb0a475",
   "metadata": {},
   "outputs": [],
   "source": [
    "Dsso = p02.oversample_rc(Dss, [0])"
   ]
  },
  {
   "cell_type": "code",
   "execution_count": 13,
   "id": "e1f284a4-dd41-464b-b94a-b1296ca3e218",
   "metadata": {},
   "outputs": [
    {
     "data": {
      "text/plain": [
       "array([ 1.25      +0.00000000e+00j, -0.70710678-5.55111512e-17j,\n",
       "        0.        +0.00000000e+00j,  0.        +0.00000000e+00j,\n",
       "        0.        +0.00000000e+00j,  0.        +0.00000000e+00j,\n",
       "        0.        +0.00000000e+00j, -0.70710678+5.55111512e-17j])"
      ]
     },
     "execution_count": 13,
     "metadata": {},
     "output_type": "execute_result"
    }
   ],
   "source": [
    "Dsso"
   ]
  },
  {
   "cell_type": "code",
   "execution_count": 14,
   "id": "90647bf5-d90e-4069-8605-aabde0e60a09",
   "metadata": {},
   "outputs": [],
   "source": [
    "do = np.fft.ifftn(Dsso, norm='forward')"
   ]
  },
  {
   "cell_type": "code",
   "execution_count": 15,
   "id": "3773c2fd-2ad7-453e-90a7-dba497af5988",
   "metadata": {},
   "outputs": [
    {
     "data": {
      "text/plain": [
       "array([-0.16421356+0.j,  0.25      +0.j,  1.25      +0.j,  2.25      +0.j,\n",
       "        2.66421356+0.j,  2.25      +0.j,  1.25      +0.j,  0.25      +0.j])"
      ]
     },
     "execution_count": 15,
     "metadata": {},
     "output_type": "execute_result"
    }
   ],
   "source": [
    "do"
   ]
  },
  {
   "cell_type": "code",
   "execution_count": null,
   "id": "cbf6eaa6-0c64-4f9f-881a-6b923d50b724",
   "metadata": {},
   "outputs": [],
   "source": []
  }
 ],
 "metadata": {
  "kernelspec": {
   "display_name": "Python 3 (ipykernel)",
   "language": "python",
   "name": "python3"
  },
  "language_info": {
   "codemirror_mode": {
    "name": "ipython",
    "version": 3
   },
   "file_extension": ".py",
   "mimetype": "text/x-python",
   "name": "python",
   "nbconvert_exporter": "python",
   "pygments_lexer": "ipython3",
   "version": "3.9.12"
  }
 },
 "nbformat": 4,
 "nbformat_minor": 5
}
