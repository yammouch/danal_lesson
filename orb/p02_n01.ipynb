{
 "cells": [
  {
   "cell_type": "code",
   "execution_count": 1,
   "id": "7b7d1306-4684-4320-88f5-d03a4eb7776b",
   "metadata": {},
   "outputs": [],
   "source": [
    "import numpy as np\n",
    "import p02"
   ]
  },
  {
   "cell_type": "code",
   "execution_count": 2,
   "id": "687219a2-4a8c-4057-972e-6b86df6c75c5",
   "metadata": {},
   "outputs": [],
   "source": [
    "np.set_printoptions(precision=2)"
   ]
  },
  {
   "cell_type": "code",
   "execution_count": 3,
   "id": "c6fab256-b6c2-4b79-bcec-df0475899977",
   "metadata": {},
   "outputs": [],
   "source": [
    "basis_nwn = np.arange(-1, 2)[:, None]"
   ]
  },
  {
   "cell_type": "code",
   "execution_count": 4,
   "id": "ca10775e-ff6f-4b14-ba39-cbefaef643ca",
   "metadata": {},
   "outputs": [
    {
     "data": {
      "text/plain": [
       "array([[-1],\n",
       "       [ 0],\n",
       "       [ 1]])"
      ]
     },
     "execution_count": 4,
     "metadata": {},
     "output_type": "execute_result"
    }
   ],
   "source": [
    "basis_nwn"
   ]
  },
  {
   "cell_type": "code",
   "execution_count": 5,
   "id": "25967b42-585f-4dac-a7d9-ab5bacce69fe",
   "metadata": {},
   "outputs": [],
   "source": [
    "box_size = np.array([16])"
   ]
  },
  {
   "cell_type": "code",
   "execution_count": 6,
   "id": "ae35adb8-b1be-4de2-854e-8e0664ad54f2",
   "metadata": {},
   "outputs": [
    {
     "data": {
      "text/plain": [
       "array([16])"
      ]
     },
     "execution_count": 6,
     "metadata": {},
     "output_type": "execute_result"
    }
   ],
   "source": [
    "box_size"
   ]
  },
  {
   "cell_type": "code",
   "execution_count": 7,
   "id": "4ff26cd0-8742-4869-ba28-79c331c6032c",
   "metadata": {},
   "outputs": [],
   "source": [
    "phase = np.linspace(0, 3*np.pi/2, 4)"
   ]
  },
  {
   "cell_type": "code",
   "execution_count": 8,
   "id": "72ceb016-9bc5-4557-96e2-269bff56bf91",
   "metadata": {},
   "outputs": [
    {
     "data": {
      "text/plain": [
       "array([0.  , 1.57, 3.14, 4.71])"
      ]
     },
     "execution_count": 8,
     "metadata": {},
     "output_type": "execute_result"
    }
   ],
   "source": [
    "phase"
   ]
  },
  {
   "cell_type": "code",
   "execution_count": 9,
   "id": "c843b075-9f9b-4a4b-b8b8-d40403eeb6c0",
   "metadata": {},
   "outputs": [],
   "source": [
    "vext = np.cos(phase)"
   ]
  },
  {
   "cell_type": "code",
   "execution_count": 10,
   "id": "d14b9bb9-6d21-4f9f-91d8-903e0d55ec16",
   "metadata": {},
   "outputs": [
    {
     "data": {
      "text/plain": [
       "array([ 1.00e+00,  6.12e-17, -1.00e+00, -1.84e-16])"
      ]
     },
     "execution_count": 10,
     "metadata": {},
     "output_type": "execute_result"
    }
   ],
   "source": [
    "vext"
   ]
  },
  {
   "cell_type": "code",
   "execution_count": 11,
   "id": "cba69a08-3db6-42fd-a80a-21a0d0002bce",
   "metadata": {},
   "outputs": [],
   "source": [
    "vext_rc = np.fft.fft(vext)"
   ]
  },
  {
   "cell_type": "code",
   "execution_count": 12,
   "id": "e370c763-f779-424e-8119-b4693bf3af01",
   "metadata": {},
   "outputs": [
    {
     "data": {
      "text/plain": [
       "array([-1.22e-16+0.00e+00j,  2.00e+00-2.45e-16j,  1.22e-16+0.00e+00j,\n",
       "        2.00e+00+2.45e-16j])"
      ]
     },
     "execution_count": 12,
     "metadata": {},
     "output_type": "execute_result"
    }
   ],
   "source": [
    "vext_rc"
   ]
  },
  {
   "cell_type": "code",
   "execution_count": 13,
   "id": "e7b161f2-b089-4d59-a9f9-485ffac3b76b",
   "metadata": {},
   "outputs": [],
   "source": [
    "vext_rc *= box_size.prod()"
   ]
  },
  {
   "cell_type": "code",
   "execution_count": 14,
   "id": "bf39e7bb-4417-4a4c-8d9e-51300903adfa",
   "metadata": {},
   "outputs": [
    {
     "data": {
      "text/plain": [
       "array([-1.96e-15+0.00e+00j,  3.20e+01-3.92e-15j,  1.96e-15+0.00e+00j,\n",
       "        3.20e+01+3.92e-15j])"
      ]
     },
     "execution_count": 14,
     "metadata": {},
     "output_type": "execute_result"
    }
   ],
   "source": [
    "vext_rc"
   ]
  },
  {
   "cell_type": "code",
   "execution_count": 15,
   "id": "dc5c29f0-11c8-4936-9700-95d4fb3d3d6d",
   "metadata": {},
   "outputs": [
    {
     "data": {
      "text/plain": [
       "array([-1.96e-15+0.00e+00j,  3.20e+01-3.92e-15j,  9.80e-16+0.00e+00j,\n",
       "        3.20e+01+3.92e-15j])"
      ]
     },
     "execution_count": 15,
     "metadata": {},
     "output_type": "execute_result"
    }
   ],
   "source": [
    "p02.symmetrize(vext_rc)"
   ]
  },
  {
   "cell_type": "code",
   "execution_count": 16,
   "id": "1d8733a7-9f43-4ec5-af0c-ed081916a32e",
   "metadata": {},
   "outputs": [],
   "source": [
    "basis_nwn_cart = p02.f_basis_nwn_cart(basis_nwn)"
   ]
  },
  {
   "cell_type": "code",
   "execution_count": 17,
   "id": "6b95375c-ff99-4049-b6ec-8db5341af068",
   "metadata": {},
   "outputs": [
    {
     "data": {
      "text/plain": [
       "array([[ 0,  0, -1, -1],\n",
       "       [ 0,  1, -1,  0],\n",
       "       [ 0,  2, -1,  1],\n",
       "       [ 1,  0,  0, -1],\n",
       "       [ 1,  1,  0,  0],\n",
       "       [ 1,  2,  0,  1],\n",
       "       [ 2,  0,  1, -1],\n",
       "       [ 2,  1,  1,  0],\n",
       "       [ 2,  2,  1,  1]])"
      ]
     },
     "execution_count": 17,
     "metadata": {},
     "output_type": "execute_result"
    }
   ],
   "source": [
    "basis_nwn_cart"
   ]
  },
  {
   "cell_type": "code",
   "execution_count": 18,
   "id": "5ebdc16f-0572-4177-bc54-f84dd5abcd7b",
   "metadata": {},
   "outputs": [],
   "source": [
    "vext_nwn = p02.f_vext_nwn(basis_nwn_cart, vext_rc)"
   ]
  },
  {
   "cell_type": "code",
   "execution_count": 19,
   "id": "1b1adf1c-820d-44fc-a212-b0ce55cbe712",
   "metadata": {},
   "outputs": [
    {
     "data": {
      "text/plain": [
       "array([[ 0,  0,  0],\n",
       "       [ 0,  1, -1],\n",
       "       [ 0,  2, -2],\n",
       "       [ 1,  0,  1],\n",
       "       [ 1,  1,  0],\n",
       "       [ 1,  2, -1],\n",
       "       [ 2,  0,  2],\n",
       "       [ 2,  1,  1],\n",
       "       [ 2,  2,  0]])"
      ]
     },
     "execution_count": 19,
     "metadata": {},
     "output_type": "execute_result"
    }
   ],
   "source": [
    "vext_nwn"
   ]
  },
  {
   "cell_type": "code",
   "execution_count": 20,
   "id": "9561e460-6882-4f24-b9ea-74711a751892",
   "metadata": {},
   "outputs": [],
   "source": [
    "vext_mat = p02.f_vext_mat(basis_nwn, vext_rc, vext_nwn)"
   ]
  },
  {
   "cell_type": "code",
   "execution_count": 21,
   "id": "3da5b97c-63b0-4142-a21c-87a6895cf81b",
   "metadata": {},
   "outputs": [
    {
     "data": {
      "text/plain": [
       "array([[-1.96e-15+0.00e+00j,  3.20e+01+3.92e-15j,  9.80e-16+0.00e+00j],\n",
       "       [ 3.20e+01-3.92e-15j, -1.96e-15+0.00e+00j,  3.20e+01+3.92e-15j],\n",
       "       [ 9.80e-16+0.00e+00j,  3.20e+01-3.92e-15j, -1.96e-15+0.00e+00j]])"
      ]
     },
     "execution_count": 21,
     "metadata": {},
     "output_type": "execute_result"
    }
   ],
   "source": [
    "vext_mat"
   ]
  },
  {
   "cell_type": "code",
   "execution_count": 22,
   "id": "95d8ee02-0609-476d-91c5-a8afd7fc32ad",
   "metadata": {},
   "outputs": [
    {
     "data": {
      "text/plain": [
       "array([[ 0,  0,  0],\n",
       "       [ 0,  1, -1],\n",
       "       [ 0,  2, -2],\n",
       "       [ 1,  0,  1],\n",
       "       [ 1,  1,  0],\n",
       "       [ 1,  2, -1],\n",
       "       [ 2,  0,  2],\n",
       "       [ 2,  1,  1],\n",
       "       [ 2,  2,  0]])"
      ]
     },
     "execution_count": 22,
     "metadata": {},
     "output_type": "execute_result"
    }
   ],
   "source": [
    "vext_nwn"
   ]
  },
  {
   "cell_type": "code",
   "execution_count": 23,
   "id": "3f344bff-8824-4c0d-bcc1-493816dfc01f",
   "metadata": {},
   "outputs": [],
   "source": [
    "kin_mat = p02.f_kin_mat(basis_nwn, box_size)"
   ]
  },
  {
   "cell_type": "code",
   "execution_count": 24,
   "id": "ca66ceeb-89ac-48aa-a3d9-06756d11d268",
   "metadata": {},
   "outputs": [
    {
     "data": {
      "text/plain": [
       "array([[-0.  , -0.08, -0.31],\n",
       "       [-0.08, -0.  , -0.08],\n",
       "       [-0.31, -0.08, -0.  ]])"
      ]
     },
     "execution_count": 24,
     "metadata": {},
     "output_type": "execute_result"
    }
   ],
   "source": [
    "kin_mat"
   ]
  },
  {
   "cell_type": "code",
   "execution_count": 25,
   "id": "8e5f2712-09b9-4e45-8fab-d3b028a250ce",
   "metadata": {},
   "outputs": [],
   "source": [
    "lhs = kin_mat + vext_mat"
   ]
  },
  {
   "cell_type": "code",
   "execution_count": 26,
   "id": "79a834ae-9ba6-4a78-954d-d193445b8c75",
   "metadata": {},
   "outputs": [
    {
     "data": {
      "text/plain": [
       "array([[-1.96e-15+0.00e+00j,  3.19e+01+3.92e-15j, -3.08e-01+0.00e+00j],\n",
       "       [ 3.19e+01-3.92e-15j, -1.96e-15+0.00e+00j,  3.19e+01+3.92e-15j],\n",
       "       [-3.08e-01+0.00e+00j,  3.19e+01-3.92e-15j, -1.96e-15+0.00e+00j]])"
      ]
     },
     "execution_count": 26,
     "metadata": {},
     "output_type": "execute_result"
    }
   ],
   "source": [
    "lhs"
   ]
  },
  {
   "cell_type": "code",
   "execution_count": 27,
   "id": "bbe68c86-d504-4217-906b-0cef6eee6489",
   "metadata": {},
   "outputs": [],
   "source": [
    "e, v = np.linalg.eigh(lhs)"
   ]
  },
  {
   "cell_type": "code",
   "execution_count": 28,
   "id": "d90da6ae-2f9f-46f3-9076-8d12d01a577f",
   "metadata": {},
   "outputs": [
    {
     "data": {
      "text/plain": [
       "array([-45.3 ,   0.31,  44.99])"
      ]
     },
     "execution_count": 28,
     "metadata": {},
     "output_type": "execute_result"
    }
   ],
   "source": [
    "e"
   ]
  },
  {
   "cell_type": "code",
   "execution_count": 29,
   "id": "80d05c14-a437-4cf3-89ee-8004c0f23e24",
   "metadata": {},
   "outputs": [
    {
     "data": {
      "text/plain": [
       "array([[ 5.01e-01+0.00e+00j,  7.07e-01-0.00e+00j,  4.99e-01+0.00e+00j],\n",
       "       [-7.06e-01+8.55e-17j,  1.89e-16+1.68e-18j,  7.08e-01-8.82e-17j],\n",
       "       [ 5.01e-01-1.21e-16j, -7.07e-01+1.74e-16j,  4.99e-01-1.24e-16j]])"
      ]
     },
     "execution_count": 29,
     "metadata": {},
     "output_type": "execute_result"
    }
   ],
   "source": [
    "v"
   ]
  },
  {
   "cell_type": "code",
   "execution_count": 30,
   "id": "2ce501a4-8d91-416e-959a-3459326ca117",
   "metadata": {},
   "outputs": [],
   "source": [
    "w1 = np.zeros(vext.shape[0], dtype=np.complex128)"
   ]
  },
  {
   "cell_type": "code",
   "execution_count": 31,
   "id": "e5a5c306-f8d1-4bee-a853-03ecbd1f89ac",
   "metadata": {},
   "outputs": [
    {
     "data": {
      "text/plain": [
       "array([0.+0.j, 0.+0.j, 0.+0.j, 0.+0.j])"
      ]
     },
     "execution_count": 31,
     "metadata": {},
     "output_type": "execute_result"
    }
   ],
   "source": [
    "w1"
   ]
  },
  {
   "cell_type": "code",
   "execution_count": 32,
   "id": "d51c55c8-cb1f-4e48-ae70-ed1a9ac08fb0",
   "metadata": {},
   "outputs": [
    {
     "data": {
      "text/plain": [
       "(array([-1,  0,  1]),)"
      ]
     },
     "execution_count": 32,
     "metadata": {},
     "output_type": "execute_result"
    }
   ],
   "source": [
    "tuple(basis_nwn.T)"
   ]
  },
  {
   "cell_type": "code",
   "execution_count": 33,
   "id": "72982b88-7638-4bbd-a361-5b6f031be1cf",
   "metadata": {},
   "outputs": [],
   "source": [
    "w1[tuple(basis_nwn.T)] = v[:,0]"
   ]
  },
  {
   "cell_type": "code",
   "execution_count": 34,
   "id": "1d619960-8ca2-490d-8a3f-7fb76e360883",
   "metadata": {},
   "outputs": [
    {
     "data": {
      "text/plain": [
       "array([-0.71+8.55e-17j,  0.5 -1.21e-16j,  0.  +0.00e+00j,  0.5 +0.00e+00j])"
      ]
     },
     "execution_count": 34,
     "metadata": {},
     "output_type": "execute_result"
    }
   ],
   "source": [
    "w1"
   ]
  },
  {
   "cell_type": "code",
   "execution_count": 35,
   "id": "d9c100ef-0ed6-41f1-8de2-08b7cf870d66",
   "metadata": {},
   "outputs": [],
   "source": [
    "w = np.zeros((basis_nwn.shape[0], vext.shape[0]), dtype=np.complex128)"
   ]
  },
  {
   "cell_type": "code",
   "execution_count": 36,
   "id": "81a62763-71bd-45d4-b49d-f20999f33a7c",
   "metadata": {},
   "outputs": [],
   "source": [
    "w[(slice(None), ) + tuple(basis_nwn.T)] = v.T"
   ]
  },
  {
   "cell_type": "code",
   "execution_count": 37,
   "id": "5230d0bd-ddd3-42e8-8dc0-f18c8cb312ef",
   "metadata": {},
   "outputs": [
    {
     "data": {
      "text/plain": [
       "array([[-7.06e-01+8.55e-17j,  5.01e-01-1.21e-16j,  0.00e+00+0.00e+00j,\n",
       "         5.01e-01+0.00e+00j],\n",
       "       [ 1.89e-16+1.68e-18j, -7.07e-01+1.74e-16j,  0.00e+00+0.00e+00j,\n",
       "         7.07e-01-0.00e+00j],\n",
       "       [ 7.08e-01-8.82e-17j,  4.99e-01-1.24e-16j,  0.00e+00+0.00e+00j,\n",
       "         4.99e-01+0.00e+00j]])"
      ]
     },
     "execution_count": 37,
     "metadata": {},
     "output_type": "execute_result"
    }
   ],
   "source": [
    "w"
   ]
  },
  {
   "cell_type": "code",
   "execution_count": 38,
   "id": "6dddc49d-e68e-4618-879c-4ba046b94d4f",
   "metadata": {},
   "outputs": [],
   "source": [
    "w_re = np.fft.ifft(w)"
   ]
  },
  {
   "cell_type": "code",
   "execution_count": 39,
   "id": "c57e49cb-8d1f-47ec-940f-03b91eccba1c",
   "metadata": {},
   "outputs": [
    {
     "data": {
      "text/plain": [
       "array([[ 7.40e-02-8.96e-18j, -1.76e-01+4.91e-17j, -4.27e-01+5.17e-17j,\n",
       "        -1.76e-01-6.38e-18j],\n",
       "       [ 1.03e-16+4.38e-17j,  3.86e-18-3.54e-01j, -8.24e-18-4.30e-17j,\n",
       "         9.07e-17+3.54e-01j],\n",
       "       [ 4.27e-01-5.31e-17j,  1.77e-01+1.17e-16j, -7.25e-02+9.02e-18j,\n",
       "         1.77e-01-1.61e-16j]])"
      ]
     },
     "execution_count": 39,
     "metadata": {},
     "output_type": "execute_result"
    }
   ],
   "source": [
    "w_re"
   ]
  },
  {
   "cell_type": "code",
   "execution_count": 40,
   "id": "4e7ded2f-7e7c-405f-9afd-82d41d0bc23c",
   "metadata": {},
   "outputs": [
    {
     "data": {
      "text/plain": [
       "array([[7.40e-02, 1.76e-01, 4.27e-01, 1.76e-01],\n",
       "       [1.12e-16, 3.54e-01, 4.38e-17, 3.54e-01],\n",
       "       [4.27e-01, 1.77e-01, 7.25e-02, 1.77e-01]])"
      ]
     },
     "execution_count": 40,
     "metadata": {},
     "output_type": "execute_result"
    }
   ],
   "source": [
    "np.abs(w_re)"
   ]
  },
  {
   "cell_type": "code",
   "execution_count": null,
   "id": "6a1ea9b7-453f-489f-b65f-f193bd4ba3b5",
   "metadata": {},
   "outputs": [],
   "source": []
  }
 ],
 "metadata": {
  "kernelspec": {
   "display_name": "Python 3 (ipykernel)",
   "language": "python",
   "name": "python3"
  },
  "language_info": {
   "codemirror_mode": {
    "name": "ipython",
    "version": 3
   },
   "file_extension": ".py",
   "mimetype": "text/x-python",
   "name": "python",
   "nbconvert_exporter": "python",
   "pygments_lexer": "ipython3",
   "version": "3.9.7"
  }
 },
 "nbformat": 4,
 "nbformat_minor": 5
}
