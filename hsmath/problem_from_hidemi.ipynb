{
  "nbformat": 4,
  "nbformat_minor": 0,
  "metadata": {
    "colab": {
      "name": "problem_from_hidemi",
      "provenance": [],
      "authorship_tag": "ABX9TyM+aC13wNMeZfj7n12UPJDZ",
      "include_colab_link": true
    },
    "kernelspec": {
      "name": "python3",
      "display_name": "Python 3"
    }
  },
  "cells": [
    {
      "cell_type": "markdown",
      "metadata": {
        "id": "view-in-github",
        "colab_type": "text"
      },
      "source": [
        "<a href=\"https://colab.research.google.com/github/yammouch/danal_lesson/blob/master/hsmath/problem_from_hidemi.ipynb\" target=\"_parent\"><img src=\"https://colab.research.google.com/assets/colab-badge.svg\" alt=\"Open In Colab\"/></a>"
      ]
    },
    {
      "cell_type": "markdown",
      "metadata": {
        "id": "c9vdNGQO_JQR"
      },
      "source": [
        "【問】不等式 $(x^2+y^2-8)(x^2+y^2-8y+8)\\le 0$ で表される領域の面積を求めよ。"
      ]
    },
    {
      "cell_type": "markdown",
      "metadata": {
        "id": "atKCFGLW_jiR"
      },
      "source": [
        "【解】\r\n",
        "左辺の各因数を正か否かで場合分けをすると、下の表のように (a)(b)(c)(d) の 4 通りになる。\r\n",
        "\r\n",
        "|&nbsp;&nbsp;&nbsp;&nbsp;&nbsp;&nbsp;&nbsp;&nbsp;&nbsp;&nbsp;&nbsp;&nbsp;&nbsp;&nbsp;&nbsp;&nbsp;&nbsp;&nbsp;&nbsp;&nbsp;&nbsp;&nbsp;&nbsp;&nbsp;&nbsp;&nbsp;&nbsp;&nbsp;&nbsp;&nbsp;&nbsp;&nbsp;&nbsp;&nbsp;&nbsp;&nbsp;&nbsp;&nbsp;&nbsp;&nbsp;&nbsp;|(a)|(b)|(c)|(d)|\r\n",
        "|--|--|--|--|--|\r\n",
        "|(因数1) $x^2+y^2-8$|正|正|負または0|負または0|\r\n",
        "|(因数2) $x^2+y^2-8y+8$|正|負または0|正|負または0|\r\n",
        "\r\n",
        "従って、$\\textrm{(因数1)}\\times\\textrm{(因数2)}\\le0$となるのは (b) と (c) で、(b) の領域の面積と (c) の領域の面積の和を求めればよい。ここで、\r\n",
        "\\begin{eqnarray}\r\n",
        "\\textrm{(因数1)}&=&x^2+y^2-8 \\\\\r\n",
        "&=&x^2+y^2-(2\\sqrt{2})^2\\\\\r\n",
        "\\textrm{(因数2)}&=&x^2+y^2-8y+8 \\\\\r\n",
        "&=&x^2+y^2-8y+16-8\\\\\r\n",
        "&=&x^2+(y-4)^2-8\\\\\r\n",
        "&=&x^2+(y-4)^2-(2\\sqrt{2})^2\r\n",
        "\\end{eqnarray}\r\n",
        "なので、(因数1) が正、0、負の領域は原点$(0,0)$を中心とし半径が$2\\sqrt{2}$の円のそれぞれ外側、円周上、内側。(因数2) については点$(0,4)$を中心とし半径が$2\\sqrt{2}$の円で区切られる領域である。これを図示すると下の様になる。\r\n",
        "\r\n",
        "<img src=\"https://docs.google.com/drawings/d/1_ncsO7AP9lur9_lvHN9fC58B7QuBlwawU1LzQrlmjww/export/svg\" width=\"50%\">\r\n",
        "\r\n",
        "影を付けた部分の面積を求めればよい。(d) の部分を計算すると、\r\n",
        "\\begin{eqnarray}\r\n",
        "\\frac{\\textrm{(d)}}{2}&=&\\textrm{(半径$2\\sqrt{2}$、中心角$90^\\circ$の扇形)-(等辺の長さが$2\\sqrt{2}の直角二等辺三角形$)}\\\\\r\n",
        "&=&(2\\sqrt{2})^2\\times \\pi \\times \\frac{90}{360}-\\frac{1}{2} \\times 2\\sqrt{2}\\times 2\\sqrt{2}\\\\\r\n",
        "&=&2\\pi-4\\\\\r\n",
        "\\textrm{(d)}&=&4\\pi -8\r\n",
        "\\end{eqnarray}\r\n",
        "(c) の面積は、\r\n",
        "\\begin{eqnarray}\r\n",
        "\\textrm{(c)}&=&\\textrm{(半径$2\\sqrt{2}$の円)}-\\textrm{(d)}\\\\\r\n",
        "&=&(2\\sqrt{2})^2\\times \\pi-(4\\pi - 8)\\\\\r\n",
        "&=&8\\pi - 4\\pi + 8\\\\\r\n",
        "&=&4\\pi + 8\r\n",
        "\\end{eqnarray}\r\n",
        "(b) の面積も同じなので、求める面積は\r\n",
        "\\begin{eqnarray}\r\n",
        "\\textrm{(c)}\\times 2&=&2(4\\pi + 8)\\\\\r\n",
        "&=&8\\pi+16\r\n",
        "\\end{eqnarray}\r\n",
        "となる。"
      ]
    },
    {
      "cell_type": "markdown",
      "metadata": {
        "id": "nVkApsGqN3nC"
      },
      "source": [
        "【類題】不等式$(x^2+y^2-3)(x^2-6x+y^2+6)\\le0$で表される領域の面積を求めよ。"
      ]
    },
    {
      "cell_type": "markdown",
      "metadata": {
        "id": "iMPnUaJmOK1-"
      },
      "source": [
        "【方針】\r\n",
        "\\begin{eqnarray}\r\n",
        "\\textrm{(因数1)}&=&x^2+y^2-(\\sqrt{3})^2\\\\\r\n",
        "\\textrm{(因数2)}&=&x^2-6x+y^2+6\\\\\r\n",
        "&=&x^2-6x+9-9+y^2+6\\\\\r\n",
        "&=&(x-3)^2+y^2-3\\\\\r\n",
        "&=&(x-3)^2+y^2-(\\sqrt{3})^2\r\n",
        "\\end{eqnarray}\r\n",
        "\r\n",
        "となり、下の図を考えればよい。\r\n",
        "\r\n",
        "<img src=\"https://docs.google.com/drawings/d/1iqI1o3xUH9LZz_nywEGrFfZUpW90M_N_11A1ed2m7Pw/export/svg\" width=\"50%\">"
      ]
    }
  ]
}